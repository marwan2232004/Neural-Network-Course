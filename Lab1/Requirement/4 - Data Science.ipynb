{
 "cells": [
  {
   "cell_type": "markdown",
   "metadata": {},
   "source": [
    "## 🎨 Data Science"
   ]
  },
  {
   "cell_type": "markdown",
   "metadata": {},
   "source": [
    "In this notebook we will be dealing with a popular customer churn dataset. The objective of this dataset is to learn the reasons or conditions under which customers exit a company. If a company has a high churn rate, then that's a sign it needs change."
   ]
  },
  {
   "cell_type": "code",
   "execution_count": null,
   "metadata": {},
   "outputs": [],
   "source": [
    "import pandas as pd\n",
    "\n",
    "# TODO [1]: Read 'churn.csv' into a DataFrame. \n",
    "df = None\n",
    "df.head()"
   ]
  },
  {
   "cell_type": "code",
   "execution_count": null,
   "metadata": {},
   "outputs": [],
   "source": [
    "# TODO [2]: Keep only the numerical columns. Hint: df = df.drop(columns=['Col1', 'Col2',... ]) can be faster \n",
    "df = None\n",
    "df.head()"
   ]
  },
  {
   "cell_type": "code",
   "execution_count": null,
   "metadata": {},
   "outputs": [],
   "source": [
    "# TODO [3]: Check if there are any missing values and fill them with the mean if the column if there is"
   ]
  },
  {
   "cell_type": "code",
   "execution_count": null,
   "metadata": {},
   "outputs": [],
   "source": [
    "# TODO [4]: Check statistics for the table"
   ]
  },
  {
   "cell_type": "code",
   "execution_count": null,
   "metadata": {},
   "outputs": [],
   "source": [
    "# TODO [5]: Get rows of highest salary and lowest salary in a new dataframe"
   ]
  },
  {
   "cell_type": "code",
   "execution_count": null,
   "metadata": {},
   "outputs": [],
   "source": [
    "import matplotlib.pyplot as plt\n",
    "import numpy as np\n",
    "\n",
    "# TODO [6]: Create potentially meaningful plot for the dataset\n",
    "\n",
    "# Create subplots\n",
    "plt.style.use('dark_background')            \n",
    "fig, axs = plt.subplots(2, 2, figsize=(12, 8), dpi=150)\n",
    "# treat each axs just like plt\n",
    "\n",
    "# TODO [6.1]: Plot a histogram\n",
    "credit_score = None\n",
    "axs[0, 0].hist(credit_score, bins=30, color='skyblue', edgecolor='black')\n",
    "axs[0, 0].set_title('Histogram')\n",
    "axs[0, 0].set_xlabel('Credit Score')\n",
    "axs[0, 0].set_ylabel('Frequency')\n",
    "\n",
    "# TODO [6.2]: Plot a scatter plot of CreditScore VS. Salary\n",
    "# TODO [6.2.1]: Get credit score and salaries for exited customers and plot\n",
    "score_exit = None\n",
    "salary_exit = None\n",
    "# small dots\n",
    "axs[0, 1].scatter(score_exit, salary_exit, color='red', s=0.9)\n",
    "# TODO [6.2.2]: Get credit score and salaries for non-exited customers and plot\n",
    "score_nonexit = None\n",
    "salary_nonexit =None\n",
    "axs[0, 1].scatter(score_nonexit, salary_nonexit, color='blue', s=0.9)\n",
    "axs[0, 1].set_title('Scatter Plot')\n",
    "axs[0, 1].set_xlabel('Balance')\n",
    "axs[0, 1].set_ylabel('Estimated Salary')\n",
    "\n",
    "# TODO [6.3]: Plot a bar chart\n",
    "age, balance = None, None\n",
    "axs[1, 0].bar(age, balance)\n",
    "axs[1, 0].set_title('Bar Chart')\n",
    "axs[1, 0].set_xlabel('Age')\n",
    "axs[1, 0].set_ylabel('Balance')\n",
    "\n",
    "# TODO [6.4]: Plot a box plot for tenure\n",
    "tenure = None\n",
    "axs[1, 1].boxplot(tenure)\n",
    "axs[1, 1].set_title('Box Plot')\n",
    "axs[1, 1].set_xlabel('Tenure')\n",
    "axs[1, 1].set_ylabel('Frequency')\n",
    "\n",
    "# Adjust layout\n",
    "plt.tight_layout()\n",
    "\n",
    "# Show plot\n",
    "plt.show()"
   ]
  }
 ],
 "metadata": {
  "kernelspec": {
   "display_name": "Python 3",
   "language": "python",
   "name": "python3"
  },
  "language_info": {
   "codemirror_mode": {
    "name": "ipython",
    "version": 3
   },
   "file_extension": ".py",
   "mimetype": "text/x-python",
   "name": "python",
   "nbconvert_exporter": "python",
   "pygments_lexer": "ipython3",
   "version": "3.9.16"
  }
 },
 "nbformat": 4,
 "nbformat_minor": 2
}
